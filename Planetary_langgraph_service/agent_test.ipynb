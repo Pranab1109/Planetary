{
 "cells": [
  {
   "cell_type": "code",
   "execution_count": null,
   "id": "887de0ad",
   "metadata": {},
   "outputs": [],
   "source": [
    "from typing import Annotated, List, Sequence, Tuple, TypedDict, Union\n",
    "from typing_extensions import TypedDict\n",
    "from langgraph.graph import StateGraph, START\n",
    "from langgraph.graph.message import add_messages\n",
    "from dotenv import load_dotenv, find_dotenv\n",
    "from langchain_core.prompts import ChatPromptTemplate\n",
    "from langchain_core.prompts import MessagesPlaceholder\n",
    "from langchain_core.tools import tool\n",
    "from langchain.agents import create_openai_functions_agent\n",
    "from langchain.tools.render import format_tool_to_openai_function\n",
    "from langchain_community.tools.tavily_search import TavilySearchResults\n",
    "from langchain_core.messages.base import BaseMessage\n",
    "from langchain_core.messages.function import FunctionMessage\n",
    "from langchain_core.messages import HumanMessage, SystemMessage\n",
    "import operator\n",
    "import functools\n"
   ]
  },
  {
   "cell_type": "code",
   "execution_count": null,
   "id": "364f32a9",
   "metadata": {},
   "outputs": [],
   "source": [
    "load_dotenv(find_dotenv())"
   ]
  },
  {
   "cell_type": "code",
   "execution_count": null,
   "id": "2a279a79",
   "metadata": {},
   "outputs": [],
   "source": [
    "class State(TypedDict):\n",
    "    messages: Annotated[list, add_messages]\n",
    "    next_node: str"
   ]
  },
  {
   "cell_type": "code",
   "execution_count": 20,
   "id": "20d569f7",
   "metadata": {},
   "outputs": [],
   "source": [
    "\n",
    "def create_agent(llm, tools, system_message: str):\n",
    "    \"\"\"Create an agent.\"\"\"\n",
    "    functions = [format_tool_to_openai_function(t) for t in tools]\n",
    "    prompt = ChatPromptTemplate.from_messages([\n",
    "        (\n",
    "            \"System\",\n",
    "            \"You are a helpful AI Assistant, collaborating with other assistants.\"\n",
    "            \"Use the provided tools to progress towards answering the question.\"\n",
    "            \"If you are unable to answer, that's okay, another agent with different tools\"\n",
    "            \"will help you where you left off. Execute what you can to make progress.\"\n",
    "            \"If you or any of the other assistants have the final answer or deliverable,\"\n",
    "            \"prefix your response with FINAL ANSWER so the team knows to stop.\"\n",
    "            \"You have access to the following tools: {tool_names}.\\n{system_message}\",\n",
    "        ),\n",
    "        MessagesPlaceholder(variable_name=\"messages\")\n",
    "    ])\n",
    "    prompt = prompt.partial(system_message=system_message)\n",
    "    prompt = prompt.partial(tool_names=\", \".join([tool.name for tool in tools]))\n",
    "    return prompt | llm.bind_functions(functions)"
   ]
  },
  {
   "cell_type": "code",
   "execution_count": 21,
   "id": "f8c00c36",
   "metadata": {},
   "outputs": [],
   "source": [
    "\n",
    "tavily_tool = TavilySearchResults(max_results=5)"
   ]
  },
  {
   "cell_type": "code",
   "execution_count": null,
   "id": "3eb7cb91",
   "metadata": {},
   "outputs": [],
   "source": [
    "class AgentState(TypedDict):\n",
    "    messages: Annotated[Sequence[BaseMessage], operator.add]\n",
    "    sender: str\n",
    "    next_node: str"
   ]
  },
  {
   "cell_type": "code",
   "execution_count": 26,
   "id": "1d991b45",
   "metadata": {},
   "outputs": [],
   "source": [
    "def agent_node(state, agent, name):\n",
    "    result = agent.invoke(state)\n",
    "    if isinstance(result, FunctionMessage):\n",
    "        pass\n",
    "    else:\n",
    "        result = HumanMessage(**result.dict(exclude={\"type\", \"name\"}), name=name)\n",
    "    return {\n",
    "        \"messages\":[result],\n",
    "        \"sender\": name\n",
    "    }"
   ]
  },
  {
   "cell_type": "code",
   "execution_count": null,
   "id": "6a1ce167",
   "metadata": {},
   "outputs": [],
   "source": [
    "from langchain_ollama import OllamaLLM\n",
    "\n",
    "llm = OllamaLLM(model=\"llama3.1\")\n",
    "response = llm.invoke(\"The first man on the moon was ...\")\n",
    "print(response)"
   ]
  }
 ],
 "metadata": {
  "kernelspec": {
   "display_name": "Python 3",
   "language": "python",
   "name": "python3"
  },
  "language_info": {
   "codemirror_mode": {
    "name": "ipython",
    "version": 3
   },
   "file_extension": ".py",
   "mimetype": "text/x-python",
   "name": "python",
   "nbconvert_exporter": "python",
   "pygments_lexer": "ipython3",
   "version": "3.13.3"
  }
 },
 "nbformat": 4,
 "nbformat_minor": 5
}
